{
 "cells": [
  {
   "cell_type": "markdown",
   "id": "ce1a72b2",
   "metadata": {
    "deletable": false,
    "editable": false,
    "nbgrader": {
     "grade": false,
     "grade_id": "cell-dab527fc8f5f5b27",
     "locked": true,
     "schema_version": 3,
     "solution": false,
     "task": false
    }
   },
   "source": [
    "# SLU03 | Visualization with Pandas and Matplotlib: Exercise notebook\n",
    "***"
   ]
  },
  {
   "cell_type": "markdown",
   "id": "b86cfd73",
   "metadata": {
    "deletable": false,
    "editable": false,
    "nbgrader": {
     "grade": false,
     "grade_id": "cell-28a014a18a479972",
     "locked": true,
     "schema_version": 3,
     "solution": false,
     "task": false
    }
   },
   "source": [
    "## Start by importing these packages"
   ]
  },
  {
   "cell_type": "code",
   "execution_count": 1,
   "id": "aeb267e9",
   "metadata": {
    "deletable": false,
    "editable": false,
    "nbgrader": {
     "grade": false,
     "grade_id": "cell-581a0becf5c78cb0",
     "locked": true,
     "schema_version": 3,
     "solution": false,
     "task": false
    }
   },
   "outputs": [],
   "source": [
    "# for evaluation purposes\n",
    "import hashlib\n",
    "\n",
    "import pandas as pd\n",
    "import numpy as np\n",
    "from plotchecker import PlotChecker\n",
    "\n",
    "def _hash(s):\n",
    "    \"\"\"Function used to hash the answers and compare with the right answer.\"\"\"\n",
    "    \n",
    "    return hashlib.blake2b(\n",
    "        bytes(str(s), encoding='utf8'),\n",
    "        digest_size=5\n",
    "    ).hexdigest()\n",
    "\n",
    "def get_data(p, ax=0):\n",
    "    \"\"\"Gets data from plot and concatenates it.\n",
    "    \n",
    "    This is required for hashing the plot results.\n",
    "    \"\"\"\n",
    "    all_x_data = []\n",
    "    lines = p.axis.get_lines()\n",
    "    collections = axis.collections\n",
    "    if len(lines) > 0:\n",
    "        all_x_data.append(np.concatenate([x.get_xydata()[:, ax] for x in lines]))\n",
    "    if len(collections) > 0:\n",
    "        all_x_data.append(np.concatenate([x.get_offsets()[:, ax] for x in collections]))\n",
    "    return np.concatenate(all_x_data, axis=0)"
   ]
  },
  {
   "cell_type": "markdown",
   "id": "48e0ff57",
   "metadata": {
    "deletable": false,
    "editable": false,
    "nbgrader": {
     "grade": false,
     "grade_id": "cell-e63414a3ef99dcaf",
     "locked": true,
     "schema_version": 3,
     "solution": false,
     "task": false
    }
   },
   "source": [
    "The learning objectives of this notebook are the following:\n",
    "\n",
    "- Basics of Matplotlib\n",
    "- Scatter plots\n",
    "- Line charts\n",
    "- Bar/column charts\n",
    "- Histograms\n",
    "- Box plots\n",
    "\n",
    "Our main objective for these exercises is to help a supermarket understand more about its sales through visualizations. To do this we are going to use a **modified version** of [Supermarket Sales dataset](https://www.kaggle.com/datasets/aungpyaeap/supermarket-sales).\n",
    "\n",
    "The dataset contains sales information for several stores and is located at `data/supermarket_sales.csv`. It has the following fields:\n",
    "\n",
    ">**`city`**: Location of supercenters   \n",
    ">**`gender`**: Gender type of customer   \n",
    ">**`product_line`**: General item categorization groups - Electronic accessories, Fashion accessories, Food and beverages, Health and beauty, Home and lifestyle, Sports and travel   \n",
    ">**`quantity`**: Number of products purchased by customer   \n",
    ">**`total`**: Total price including tax.   \n",
    ">**`date`**: Date of purchase (Record available from January 2019 to March 2019)   \n",
    ">**`time`**: Purchase time (10am to 9pm)   \n",
    ">**`payment`**: Payment used by customer for purchase (3 methods are available – Cash, Credit card and Ewallet)    \n",
    ">**`tax`**: 5% tax payment of the purchase\n",
    "\n",
    "There are multiple ways we can aggregate this data, and we will explore some of them."
   ]
  },
  {
   "cell_type": "code",
   "execution_count": 2,
   "id": "2435c5ad",
   "metadata": {
    "deletable": false,
    "editable": false,
    "nbgrader": {
     "grade": false,
     "grade_id": "cell-4cd998e47a0c235d",
     "locked": true,
     "schema_version": 3,
     "solution": false,
     "task": false
    }
   },
   "outputs": [
    {
     "name": "stdout",
     "output_type": "stream",
     "text": [
      "supermarket_sales:  1000 records and 9 fields.\n"
     ]
    },
    {
     "data": {
      "text/html": [
       "<div>\n",
       "<style scoped>\n",
       "    .dataframe tbody tr th:only-of-type {\n",
       "        vertical-align: middle;\n",
       "    }\n",
       "\n",
       "    .dataframe tbody tr th {\n",
       "        vertical-align: top;\n",
       "    }\n",
       "\n",
       "    .dataframe thead th {\n",
       "        text-align: right;\n",
       "    }\n",
       "</style>\n",
       "<table border=\"1\" class=\"dataframe\">\n",
       "  <thead>\n",
       "    <tr style=\"text-align: right;\">\n",
       "      <th></th>\n",
       "      <th>city</th>\n",
       "      <th>gender</th>\n",
       "      <th>product_line</th>\n",
       "      <th>quantity</th>\n",
       "      <th>total</th>\n",
       "      <th>date</th>\n",
       "      <th>time</th>\n",
       "      <th>payment</th>\n",
       "      <th>tax</th>\n",
       "    </tr>\n",
       "  </thead>\n",
       "  <tbody>\n",
       "    <tr>\n",
       "      <th>0</th>\n",
       "      <td>Yangon</td>\n",
       "      <td>Female</td>\n",
       "      <td>Health and beauty</td>\n",
       "      <td>7</td>\n",
       "      <td>548.9715</td>\n",
       "      <td>1/5/2019</td>\n",
       "      <td>13:08</td>\n",
       "      <td>Ewallet</td>\n",
       "      <td>26.1415</td>\n",
       "    </tr>\n",
       "    <tr>\n",
       "      <th>1</th>\n",
       "      <td>Naypyitaw</td>\n",
       "      <td>Female</td>\n",
       "      <td>Electronic accessories</td>\n",
       "      <td>5</td>\n",
       "      <td>80.2200</td>\n",
       "      <td>3/8/2019</td>\n",
       "      <td>10:29</td>\n",
       "      <td>Cash</td>\n",
       "      <td>3.8200</td>\n",
       "    </tr>\n",
       "    <tr>\n",
       "      <th>2</th>\n",
       "      <td>Yangon</td>\n",
       "      <td>Male</td>\n",
       "      <td>Home and lifestyle</td>\n",
       "      <td>7</td>\n",
       "      <td>340.5255</td>\n",
       "      <td>3/3/2019</td>\n",
       "      <td>13:23</td>\n",
       "      <td>Credit card</td>\n",
       "      <td>16.2155</td>\n",
       "    </tr>\n",
       "    <tr>\n",
       "      <th>3</th>\n",
       "      <td>Yangon</td>\n",
       "      <td>Male</td>\n",
       "      <td>Health and beauty</td>\n",
       "      <td>8</td>\n",
       "      <td>489.0480</td>\n",
       "      <td>1/27/2019</td>\n",
       "      <td>20:33</td>\n",
       "      <td>Ewallet</td>\n",
       "      <td>23.2880</td>\n",
       "    </tr>\n",
       "    <tr>\n",
       "      <th>4</th>\n",
       "      <td>Yangon</td>\n",
       "      <td>Male</td>\n",
       "      <td>Sports and travel</td>\n",
       "      <td>7</td>\n",
       "      <td>634.3785</td>\n",
       "      <td>2/8/2019</td>\n",
       "      <td>10:37</td>\n",
       "      <td>Ewallet</td>\n",
       "      <td>30.2085</td>\n",
       "    </tr>\n",
       "  </tbody>\n",
       "</table>\n",
       "</div>"
      ],
      "text/plain": [
       "        city  gender            product_line  quantity     total       date  \\\n",
       "0     Yangon  Female       Health and beauty         7  548.9715   1/5/2019   \n",
       "1  Naypyitaw  Female  Electronic accessories         5   80.2200   3/8/2019   \n",
       "2     Yangon    Male      Home and lifestyle         7  340.5255   3/3/2019   \n",
       "3     Yangon    Male       Health and beauty         8  489.0480  1/27/2019   \n",
       "4     Yangon    Male       Sports and travel         7  634.3785   2/8/2019   \n",
       "\n",
       "    time      payment      tax  \n",
       "0  13:08      Ewallet  26.1415  \n",
       "1  10:29         Cash   3.8200  \n",
       "2  13:23  Credit card  16.2155  \n",
       "3  20:33      Ewallet  23.2880  \n",
       "4  10:37      Ewallet  30.2085  "
      ]
     },
     "execution_count": 2,
     "metadata": {},
     "output_type": "execute_result"
    }
   ],
   "source": [
    "supermarket_sales = pd.read_csv('data/supermarket_sales.csv', encoding='utf_8', sep=';')\n",
    "rows, columns = supermarket_sales.shape\n",
    "print(f'supermarket_sales:  {rows} records and {columns} fields.')\n",
    "supermarket_sales.head()"
   ]
  },
  {
   "cell_type": "markdown",
   "id": "a8553b98",
   "metadata": {
    "deletable": false,
    "editable": false,
    "nbgrader": {
     "grade": false,
     "grade_id": "cell-b1e742a4d3bc5f15",
     "locked": true,
     "schema_version": 3,
     "solution": false,
     "task": false
    }
   },
   "source": [
    "For these exercises we will use `matplotlib.pyplot` module. We will start by importing together with some ✨magic✨."
   ]
  },
  {
   "cell_type": "code",
   "execution_count": 3,
   "id": "8ff1b370",
   "metadata": {
    "deletable": false,
    "editable": false,
    "nbgrader": {
     "grade": false,
     "grade_id": "cell-b235d0752bffc0a6",
     "locked": true,
     "schema_version": 3,
     "solution": false,
     "task": false
    }
   },
   "outputs": [],
   "source": [
    "import matplotlib.pyplot as plt\n",
    "\n",
    "%matplotlib inline"
   ]
  },
  {
   "cell_type": "markdown",
   "id": "783706c0",
   "metadata": {
    "deletable": false,
    "editable": false,
    "nbgrader": {
     "grade": false,
     "grade_id": "cell-aea0fd8297ca9c09",
     "locked": true,
     "schema_version": 3,
     "solution": false,
     "task": false
    }
   },
   "source": [
    "***\n",
    "## Exercise 1\n",
    "\n",
    "To start, we will want to change some default settings:\n",
    "* change the default pyplot chart size to 10 inches width and 10 inches height   \n",
    "* change 'lines.linewidth' to 5   \n",
    "* change 'lines.linestyle' to be a dotted line ':'"
   ]
  },
  {
   "cell_type": "code",
   "execution_count": 4,
   "id": "050365e7",
   "metadata": {
    "deletable": false,
    "nbgrader": {
     "grade": false,
     "grade_id": "cell-8f165ec5a450f25c",
     "locked": false,
     "schema_version": 3,
     "solution": true,
     "task": false
    }
   },
   "outputs": [],
   "source": [
    "inches_wide = 10\n",
    "inches_high = 10\n",
    "plt.rcParams[\"figure.figsize\"] = [inches_wide, inches_high]\n",
    "plt.rcParams['lines.linewidth'] = 5\n",
    "plt.rcParams['lines.linestyle'] = ':'"
   ]
  },
  {
   "cell_type": "code",
   "execution_count": 5,
   "id": "20e89057",
   "metadata": {
    "deletable": false,
    "editable": false,
    "nbgrader": {
     "grade": true,
     "grade_id": "cell-b946f716a3066c6f",
     "locked": true,
     "points": 2,
     "schema_version": 3,
     "solution": false,
     "task": false
    }
   },
   "outputs": [
    {
     "name": "stdout",
     "output_type": "stream",
     "text": [
      "--- Success ---\n"
     ]
    }
   ],
   "source": [
    "fig_params = plt.rcParams['figure.figsize']\n",
    "linwidth_param = plt.rcParams['lines.linewidth']\n",
    "linstyle_param = plt.rcParams['lines.linestyle']\n",
    "assert _hash(fig_params) == '7398d547ef', 'Did you change the default figure sizes?'\n",
    "assert _hash(linwidth_param) == 'f24d02e0e6', 'Did you change the default linewidth?'\n",
    "assert _hash(linstyle_param) == '2429dda583', 'Did you change the default linestyle?'\n",
    "\n",
    "print('--- Success ---')"
   ]
  },
  {
   "cell_type": "markdown",
   "id": "cad0941e",
   "metadata": {
    "deletable": false,
    "editable": false,
    "nbgrader": {
     "grade": false,
     "grade_id": "cell-de1a80bd855c491f",
     "locked": true,
     "schema_version": 3,
     "solution": false,
     "task": false
    }
   },
   "source": [
    "## 🛑 Important note about the grading\n",
    "\n",
    "**Grading plots is difficult**, we are using `plotchecker` to grade the plots with `nbgrader`. \n",
    "For `plotchecker` to work with `nbgrader`, **we need to add on each cell**, the line\n",
    "\n",
    "> **`axis = plt.gca();`**\n",
    "\n",
    "**After the code required** to do the plot.\n",
    "\n",
    "<div class=\"alert alert-danger\">\n",
    "    ⚠️ <b>NOTE: </b>If you get the <b>ImportError</b>, <i>plotchecker not defined</i>, make sure you activate the right environment for this unit!\n",
    "</div>\n",
    "\n",
    "> **For example**, *if we want to plot a `scatter plot` showing the relationship between **`total`** and **`tax`**  columns, we would do as follows:*"
   ]
  },
  {
   "cell_type": "code",
   "execution_count": 6,
   "id": "8064135f",
   "metadata": {
    "deletable": false,
    "editable": false,
    "nbgrader": {
     "grade": false,
     "grade_id": "cell-e71ff192f35d8c46",
     "locked": true,
     "schema_version": 3,
     "solution": false,
     "task": false
    }
   },
   "outputs": [
    {
     "data": {
      "image/png": "[encoded data removed]",
      "text/plain": [
       "<Figure size 720x720 with 1 Axes>"
      ]
     },
     "metadata": {
      "needs_background": "light"
     },
     "output_type": "display_data"
    }
   ],
   "source": [
    "# code required to plot\n",
    "supermarket_sales.plot.scatter(x='total', y='tax')\n",
    "\n",
    "# last line in the cell required to \"capture\" the cell and being able to grade it with nbgrader\n",
    "axis = plt.gca();"
   ]
  },
  {
   "cell_type": "markdown",
   "id": "5760d03f",
   "metadata": {
    "deletable": false,
    "editable": false,
    "nbgrader": {
     "grade": false,
     "grade_id": "cell-8aee4e0a5e2c884e",
     "locked": true,
     "schema_version": 3,
     "solution": false,
     "task": false
    }
   },
   "source": [
    "## Exercise 2\n",
    "\n",
    "In the case we have a time variable, we can investigate if there are trends and/or seasonalities. There is one plot type that is especially good for this. Which one?\n",
    "\n",
    "    A. Scatter plot   \n",
    "    B. Line plot   \n",
    "    C. Histogram   \n",
    "    D. Bar plot   \n",
    "    \n",
    "Leave your answer below, assigned to the `exercise_2_plot_type` variable as a string. For example:\n",
    "```\n",
    "exercise_2_plot_type = 'E'\n",
    "```"
   ]
  },
  {
   "cell_type": "code",
   "execution_count": 11,
   "id": "37ed3f32",
   "metadata": {
    "deletable": false,
    "nbgrader": {
     "grade": false,
     "grade_id": "cell-14df7b90e4e7b668",
     "locked": false,
     "schema_version": 3,
     "solution": true,
     "task": false
    }
   },
   "outputs": [],
   "source": [
    "exercise_2_plot_type = \"B\""
   ]
  },
  {
   "cell_type": "code",
   "execution_count": 12,
   "id": "b0ab5e99",
   "metadata": {
    "deletable": false,
    "editable": false,
    "nbgrader": {
     "grade": true,
     "grade_id": "cell-3811365992d4e32e",
     "locked": true,
     "points": 1,
     "schema_version": 3,
     "solution": false,
     "task": false
    }
   },
   "outputs": [
    {
     "name": "stdout",
     "output_type": "stream",
     "text": [
      "--- Success ---\n"
     ]
    }
   ],
   "source": [
    "assert _hash(exercise_2_plot_type) == '90a8cbb480', 'Try again'\n",
    "\n",
    "print('--- Success ---')"
   ]
  },
  {
   "cell_type": "markdown",
   "id": "3a54b690",
   "metadata": {
    "deletable": false,
    "editable": false,
    "nbgrader": {
     "grade": false,
     "grade_id": "cell-1bc4b6bca2ce3730",
     "locked": true,
     "schema_version": 3,
     "solution": false,
     "task": false
    }
   },
   "source": [
    "In this case, our time veriable is `date` and the variable we want to investigate for trends and/or seasonalities is `total`. To finish this exercise you also need to add some extra information to the plot.\n",
    "\n",
    "- set the plot **title** to **`Total sales per day`**.\n",
    "- label the **x-axis** as **`Date`**.\n",
    "- label the **y-axis** as **`Total sales`**.\n",
    "\n",
    "Before plotting, we will reset matplotlib's parameters to the default ones."
   ]
  },
  {
   "cell_type": "code",
   "execution_count": 13,
   "id": "9315a2bd",
   "metadata": {
    "deletable": false,
    "editable": false,
    "nbgrader": {
     "grade": false,
     "grade_id": "cell-3ed583cd7762fed6",
     "locked": true,
     "schema_version": 3,
     "solution": false,
     "task": false
    }
   },
   "outputs": [],
   "source": [
    "plt.rcParams.update(plt.rcParamsDefault)"
   ]
  },
  {
   "cell_type": "markdown",
   "id": "52ecad78",
   "metadata": {
    "deletable": false,
    "editable": false,
    "nbgrader": {
     "grade": false,
     "grade_id": "cell-10bf4a916224e92f",
     "locked": true,
     "schema_version": 3,
     "solution": false,
     "task": false
    }
   },
   "source": [
    "<div class=\"alert alert-info\">\n",
    "    To calculate the average cost by supermarket rating we need to perform an <b><a href='https://jakevdp.github.io/PythonDataScienceHandbook/03.08-aggregation-and-grouping.html'>aggregation</a></b>, pandas support this by doing a technique called <b>\n",
    "    <a href='https://pandas.pydata.org/pandas-docs/stable/user_guide/groupby.html'>Split-Apply-Combine</a></b>. <b>This will be explained in the Data Wrangling Specialization.</b> For now we will do the grouping for you:\n",
    "</div>"
   ]
  },
  {
   "cell_type": "code",
   "execution_count": 14,
   "id": "d188c55f",
   "metadata": {
    "deletable": false,
    "editable": false,
    "nbgrader": {
     "grade": false,
     "grade_id": "cell-c18a0f880d093aa5",
     "locked": true,
     "schema_version": 3,
     "solution": false,
     "task": false
    },
    "scrolled": true
   },
   "outputs": [
    {
     "data": {
      "text/html": [
       "<div>\n",
       "<style scoped>\n",
       "    .dataframe tbody tr th:only-of-type {\n",
       "        vertical-align: middle;\n",
       "    }\n",
       "\n",
       "    .dataframe tbody tr th {\n",
       "        vertical-align: top;\n",
       "    }\n",
       "\n",
       "    .dataframe thead th {\n",
       "        text-align: right;\n",
       "    }\n",
       "</style>\n",
       "<table border=\"1\" class=\"dataframe\">\n",
       "  <thead>\n",
       "    <tr style=\"text-align: right;\">\n",
       "      <th></th>\n",
       "      <th>date</th>\n",
       "      <th>total</th>\n",
       "    </tr>\n",
       "  </thead>\n",
       "  <tbody>\n",
       "    <tr>\n",
       "      <th>0</th>\n",
       "      <td>1/1/2019</td>\n",
       "      <td>4745.1810</td>\n",
       "    </tr>\n",
       "    <tr>\n",
       "      <th>1</th>\n",
       "      <td>1/10/2019</td>\n",
       "      <td>3560.9490</td>\n",
       "    </tr>\n",
       "    <tr>\n",
       "      <th>2</th>\n",
       "      <td>1/11/2019</td>\n",
       "      <td>2114.9625</td>\n",
       "    </tr>\n",
       "    <tr>\n",
       "      <th>3</th>\n",
       "      <td>1/12/2019</td>\n",
       "      <td>5184.7635</td>\n",
       "    </tr>\n",
       "    <tr>\n",
       "      <th>4</th>\n",
       "      <td>1/13/2019</td>\n",
       "      <td>2451.2040</td>\n",
       "    </tr>\n",
       "  </tbody>\n",
       "</table>\n",
       "</div>"
      ],
      "text/plain": [
       "        date      total\n",
       "0   1/1/2019  4745.1810\n",
       "1  1/10/2019  3560.9490\n",
       "2  1/11/2019  2114.9625\n",
       "3  1/12/2019  5184.7635\n",
       "4  1/13/2019  2451.2040"
      ]
     },
     "execution_count": 14,
     "metadata": {},
     "output_type": "execute_result"
    }
   ],
   "source": [
    "sales_by_day = supermarket_sales.groupby('date', as_index=False)[\"total\"].sum()\n",
    "sales_by_day.head()"
   ]
  },
  {
   "cell_type": "markdown",
   "id": "1034c2d8",
   "metadata": {
    "deletable": false,
    "editable": false,
    "nbgrader": {
     "grade": false,
     "grade_id": "cell-216c322fed7e881c",
     "locked": true,
     "schema_version": 3,
     "solution": false,
     "task": false
    }
   },
   "source": [
    "<div class=\"alert alert-warning\">\n",
    "⚠️ <b>NOTE: </b>Make sure you use the dataframe named <b>sales_by_day</b> for the exercise\n",
    "</div>"
   ]
  },
  {
   "cell_type": "code",
   "execution_count": 24,
   "id": "0b33886d",
   "metadata": {
    "deletable": false,
    "nbgrader": {
     "grade": false,
     "grade_id": "cell-2352176342bcb1f5",
     "locked": false,
     "schema_version": 3,
     "solution": true,
     "task": false
    },
    "scrolled": true
   },
   "outputs": [
    {
     "data": {
      "image/png": "[encoded data removed]",
      "text/plain": [
       "<Figure size 640x480 with 1 Axes>"
      ]
     },
     "metadata": {},
     "output_type": "display_data"
    }
   ],
   "source": [
    "plt.title(\"Total sales per day\", size=20)\n",
    "plt.xlabel(\"Date\", size=10)\n",
    "plt.ylabel(\"Total sales\", size=10)\n",
    "\n",
    "sales_by_day.total.plot(label=\"total\")\n",
    "\n",
    "axis = plt.gca();"
   ]
  },
  {
   "cell_type": "code",
   "execution_count": 25,
   "id": "895711cd",
   "metadata": {
    "deletable": false,
    "editable": false,
    "nbgrader": {
     "grade": true,
     "grade_id": "cell-7469072b8ebd79de",
     "locked": true,
     "points": 2,
     "schema_version": 3,
     "solution": false,
     "task": false
    }
   },
   "outputs": [
    {
     "name": "stdout",
     "output_type": "stream",
     "text": [
      "--- Success ---\n"
     ]
    }
   ],
   "source": [
    "pc = PlotChecker(axis)\n",
    "l = [pc.xlabel] + [pc.ylabel]\n",
    "l.sort()\n",
    "\n",
    "assert _hash(sorted(get_data(pc))) in ['4a9d169435'], 'Did you set the right variables for the plot axes?'\n",
    "assert _hash(sorted(get_data(pc,1))) in ['ed382d737c'], 'Did you set the right variables for the plot axes?'\n",
    "assert _hash(pc.title) in ['79f88d6489'], 'Did you set the right plot title?'\n",
    "assert _hash(l) in ['234d0fee0f'], 'Did you set the right plot axes?'\n",
    "\n",
    "print('--- Success ---')"
   ]
  },
  {
   "cell_type": "markdown",
   "id": "65ecdc8e",
   "metadata": {
    "deletable": false,
    "editable": false,
    "nbgrader": {
     "grade": false,
     "grade_id": "cell-3832d6de1363696d",
     "locked": true,
     "schema_version": 3,
     "solution": false,
     "task": false
    }
   },
   "source": [
    "***\n",
    "\n",
    "## Exercise 3\n",
    "\n",
    "Sometimes we might want to check if our assumptions are correct. \n",
    "\n",
    "What kind of plot should we use to help us understand the correlation between two different variables?\n",
    "\n",
    "    A. Scatter plot   \n",
    "    B. Line plot   \n",
    "    C. Histogram   \n",
    "    D. Bar plot   "
   ]
  },
  {
   "cell_type": "code",
   "execution_count": 19,
   "id": "979e144d",
   "metadata": {
    "deletable": false,
    "nbgrader": {
     "grade": false,
     "grade_id": "cell-50dd35f745ca79d0",
     "locked": false,
     "schema_version": 3,
     "solution": true,
     "task": false
    }
   },
   "outputs": [],
   "source": [
    "exercise_3_plot_type = 'A'"
   ]
  },
  {
   "cell_type": "code",
   "execution_count": 20,
   "id": "c79bed71",
   "metadata": {
    "deletable": false,
    "editable": false,
    "nbgrader": {
     "grade": true,
     "grade_id": "cell-94a4281093974f30",
     "locked": true,
     "points": 1,
     "schema_version": 3,
     "solution": false,
     "task": false
    }
   },
   "outputs": [
    {
     "name": "stdout",
     "output_type": "stream",
     "text": [
      "--- Success ---\n"
     ]
    }
   ],
   "source": [
    "assert _hash(exercise_3_plot_type) == 'b685b2f862', 'Try again'\n",
    "\n",
    "print('--- Success ---')"
   ]
  },
  {
   "cell_type": "markdown",
   "id": "bc88129e",
   "metadata": {},
   "source": [
    "One assumption we can check is if our records with more units are the ones that have the highest value. In this case we want to know if **`total`** has a positive correlation with **`quantity`**. Plot these two variables with the adequate plot type below."
   ]
  },
  {
   "cell_type": "code",
   "execution_count": 54,
   "id": "676b853e",
   "metadata": {
    "deletable": false,
    "nbgrader": {
     "grade": false,
     "grade_id": "cell-f92493388c9d87a3",
     "locked": false,
     "schema_version": 3,
     "solution": true,
     "task": false
    },
    "scrolled": true
   },
   "outputs": [
    {
     "data": {
      "image/png": "[encoded data removed]",
      "text/plain": [
       "<Figure size 640x480 with 1 Axes>"
      ]
     },
     "metadata": {},
     "output_type": "display_data"
    }
   ],
   "source": [
    "supermarket_sales.plot.scatter(x='total', y='quantity')\n",
    "      \n",
    "axis = plt.gca();"
   ]
  },
  {
   "cell_type": "code",
   "execution_count": 55,
   "id": "10ec21ad",
   "metadata": {
    "deletable": false,
    "editable": false,
    "nbgrader": {
     "grade": true,
     "grade_id": "cell-5b5e999566dea367",
     "locked": true,
     "points": 2,
     "schema_version": 3,
     "solution": false,
     "task": false
    }
   },
   "outputs": [
    {
     "name": "stdout",
     "output_type": "stream",
     "text": [
      "--- Success ---\n"
     ]
    }
   ],
   "source": [
    "pc = PlotChecker(axis)\n",
    "data = get_data(pc)\n",
    "l = [pc.xlabel] + [pc.ylabel]\n",
    "l.sort()\n",
    "\n",
    "assert _hash(len(data)) == 'a473547bdb', 'Did you set the right variables for the plot axes?'\n",
    "assert _hash(l) in ['0e0de810e0', '8f34002372'], 'Did you set the right variables for the plot axes?'\n",
    "assert _hash(get_data(pc,1)) in ['87037ed773'], 'Did you set the right variables for the plot axes?'\n",
    "\n",
    "print('--- Success ---')"
   ]
  },
  {
   "cell_type": "markdown",
   "id": "bccc8e8c",
   "metadata": {
    "deletable": false,
    "editable": false,
    "nbgrader": {
     "grade": false,
     "grade_id": "cell-a94f8a58b0a97e64",
     "locked": true,
     "schema_version": 3,
     "solution": false,
     "task": false
    }
   },
   "source": [
    "## Exercise 4\n",
    "\n",
    "Now we want to compare just one simple statistic for different categories. We are not interested in other statistics, just one. Which plot should we use for this?\n",
    "\n",
    "    A. Box plot   \n",
    "    B. Bar plot  \n",
    "    C. Histogram   \n",
    "    D. Pie plot"
   ]
  },
  {
   "cell_type": "code",
   "execution_count": null,
   "id": "3c5b50e5",
   "metadata": {
    "deletable": false,
    "nbgrader": {
     "grade": false,
     "grade_id": "cell-303cd7bff24cb1ae",
     "locked": false,
     "schema_version": 3,
     "solution": true,
     "task": false
    }
   },
   "outputs": [],
   "source": [
    "# YOUR CODE HERE\n",
    "raise NotImplementedError()"
   ]
  },
  {
   "cell_type": "code",
   "execution_count": null,
   "id": "7a736c56",
   "metadata": {
    "deletable": false,
    "editable": false,
    "nbgrader": {
     "grade": true,
     "grade_id": "cell-37416c5240aaa09c",
     "locked": true,
     "points": 1,
     "schema_version": 3,
     "solution": false,
     "task": false
    }
   },
   "outputs": [],
   "source": [
    "assert _hash(exercise_4_plot_type) == '90a8cbb480', 'Try again'\n",
    "\n",
    "print('--- Success ---')"
   ]
  },
  {
   "cell_type": "markdown",
   "id": "d4f9de5e",
   "metadata": {
    "deletable": false,
    "editable": false,
    "nbgrader": {
     "grade": false,
     "grade_id": "cell-b38958a2b82b0d83",
     "locked": true,
     "schema_version": 3,
     "solution": false,
     "task": false
    }
   },
   "source": [
    "How should the plot be in the case we want the count of purchases by category of `unit_price`? In this case we have an ordinal categorical varible: there is an order in them. \n",
    "\n",
    "- label the **x-axis** as **`Unit Price (rounded to dozens)`** and **size** **`22`**.\n",
    "- label the **y-axis** as **`Number of Purchases`** and **size** **`22`**.\n",
    "- set the plot **title** to **`Purchases by Unit Price`** and **size** **`30`**.\n",
    "\n",
    "Doing the **grouping** for you:"
   ]
  },
  {
   "cell_type": "code",
   "execution_count": null,
   "id": "9811bc6a",
   "metadata": {
    "deletable": false,
    "editable": false,
    "nbgrader": {
     "grade": false,
     "grade_id": "cell-2d99944d585a26aa",
     "locked": true,
     "schema_version": 3,
     "solution": false,
     "task": false
    }
   },
   "outputs": [],
   "source": [
    "purchases_by_unit_price = supermarket_sales.assign(unit_price = lambda d: (d['total'] / d['quantity']).round(-1))\n",
    "purchases_by_unit_price = purchases_by_unit_price.groupby('unit_price', as_index=False)['total'].count()\n",
    "purchases_by_unit_price = purchases_by_unit_price.rename(columns={'unit_price': 'unit_price_dozens'})\n",
    "purchases_by_unit_price.head()"
   ]
  },
  {
   "cell_type": "markdown",
   "id": "091a3b70",
   "metadata": {
    "deletable": false,
    "editable": false,
    "nbgrader": {
     "grade": false,
     "grade_id": "cell-d4cab4398b316903",
     "locked": true,
     "schema_version": 3,
     "solution": false,
     "task": false
    }
   },
   "source": [
    "<div class=\"alert alert-warning\">\n",
    "⚠️ <b>NOTE: </b>Make sure you use the dataframe named <b>purchases_by_unit_price</b> for the exercise\n",
    "</div>"
   ]
  },
  {
   "cell_type": "code",
   "execution_count": null,
   "id": "970d72c2",
   "metadata": {
    "deletable": false,
    "nbgrader": {
     "grade": false,
     "grade_id": "cell-d0420b59eb0e239a",
     "locked": false,
     "schema_version": 3,
     "solution": true,
     "task": false
    }
   },
   "outputs": [],
   "source": [
    "# YOUR CODE HERE\n",
    "raise NotImplementedError()\n",
    "axis = plt.gca();"
   ]
  },
  {
   "cell_type": "code",
   "execution_count": null,
   "id": "56773467",
   "metadata": {
    "deletable": false,
    "editable": false,
    "nbgrader": {
     "grade": true,
     "grade_id": "cell-f201e66dca211b95",
     "locked": true,
     "points": 2,
     "schema_version": 3,
     "solution": false,
     "task": false
    }
   },
   "outputs": [],
   "source": [
    "pc = PlotChecker(axis)\n",
    "pc._patches = np.array(pc.axis.patches)\n",
    "pc._patches = pc._patches[np.argsort([p.get_x() for p in pc._patches])]\n",
    "\n",
    "pc.widths = np.array([p.get_width() for p in pc._patches])\n",
    "pc.heights = np.array([p.get_height() for p in pc._patches])\n",
    "\n",
    "l = [pc.xlabel] + [pc.ylabel]\n",
    "l.sort()\n",
    "\n",
    "assert _hash(len(pc._patches)) in ['55179f3931'], 'Did you set the right variable and the right plot type?'\n",
    "assert _hash(np.sort(pc.widths)) in ['933332ec76', 'b71a74c306'], 'Did you set the right variable and the right plot type?'\n",
    "assert _hash(np.sort(pc.heights)) in ['ea16cd0590'], 'Did you set the right variable and the right plot type?'\n",
    "assert _hash(pc.title) in ['69754ee50f'], 'Did you set the right plot title?'\n",
    "assert _hash(l) in ['1f43d9f466'], 'Did you set the right plot axes?'\n",
    "\n",
    "print('--- Success ---')"
   ]
  },
  {
   "cell_type": "markdown",
   "id": "b93d1e37",
   "metadata": {
    "deletable": false,
    "editable": false,
    "nbgrader": {
     "grade": false,
     "grade_id": "cell-e24573801a54af70",
     "locked": true,
     "schema_version": 3,
     "solution": false,
     "task": false
    }
   },
   "source": [
    "Another case is when we want to compare the median price by **`product_line`**.<br> \n",
    "**Note:** Since we are comparing categories with long names, take that in mind when deciding to plot horizontally or vertically.<br>\n",
    "\n",
    "Plot the adequate visualization and add the following extra information:\n",
    "\n",
    "- label the **x-axis** as **`Price (median)`**.\n",
    "- label the **y-axis** as **`Product Line`**.\n",
    "- change the **plot color** to **`orange`**.\n",
    "\n",
    "Again, we will do the **transformations** for you:"
   ]
  },
  {
   "cell_type": "code",
   "execution_count": null,
   "id": "3e15902b",
   "metadata": {
    "deletable": false,
    "editable": false,
    "nbgrader": {
     "grade": false,
     "grade_id": "cell-2d63953978e81cb0",
     "locked": true,
     "schema_version": 3,
     "solution": false,
     "task": false
    }
   },
   "outputs": [],
   "source": [
    "price_per_product_line = supermarket_sales.assign(unit_price = lambda d: d['total'] / d['quantity'])\n",
    "price_per_product_line = price_per_product_line.groupby('product_line', as_index=False)['unit_price'].median()\n",
    "price_per_product_line = price_per_product_line.rename(columns={'unit_price': 'median_unit_price'})\n",
    "price_per_product_line"
   ]
  },
  {
   "cell_type": "markdown",
   "id": "3d09196b",
   "metadata": {
    "deletable": false,
    "editable": false,
    "nbgrader": {
     "grade": false,
     "grade_id": "cell-29d672114c1964cd",
     "locked": true,
     "schema_version": 3,
     "solution": false,
     "task": false
    }
   },
   "source": [
    "<div class=\"alert alert-warning\">\n",
    "⚠️ <b>NOTE: </b>Make sure you use the dataframe named <b>price_per_product_line</b> for the exercise\n",
    "</div>"
   ]
  },
  {
   "cell_type": "code",
   "execution_count": null,
   "id": "507dedaf",
   "metadata": {
    "deletable": false,
    "nbgrader": {
     "grade": false,
     "grade_id": "cell-64f7e3aeb7369b0c",
     "locked": false,
     "schema_version": 3,
     "solution": true,
     "task": false
    }
   },
   "outputs": [],
   "source": [
    "# YOUR CODE HERE\n",
    "raise NotImplementedError()\n",
    "axis = plt.gca();"
   ]
  },
  {
   "cell_type": "code",
   "execution_count": null,
   "id": "b9691bc3",
   "metadata": {
    "deletable": false,
    "editable": false,
    "nbgrader": {
     "grade": true,
     "grade_id": "cell-1987021abc703484",
     "locked": true,
     "points": 2,
     "schema_version": 3,
     "solution": false,
     "task": false
    }
   },
   "outputs": [],
   "source": [
    "pc = PlotChecker(axis)\n",
    "pc._patches = np.array(pc.axis.patches)\n",
    "pc._patches = pc._patches[np.argsort([p.get_x() for p in pc._patches])]\n",
    "\n",
    "pc.widths = np.array([p.get_width() for p in pc._patches])\n",
    "pc.heights = np.array([p.get_height() for p in pc._patches])\n",
    "\n",
    "l = [pc.xlabel] + [pc.ylabel]\n",
    "l.sort()\n",
    "\n",
    "assert _hash(len(pc._patches)) in ['0e0a5ac74a'], 'Did you set the right categorical variable and the right plot type?'\n",
    "assert _hash(np.sort(pc.widths)) in ['6603f07f48'], 'Did you set the right categorical variable and the right plot type?'\n",
    "assert _hash(l) in ['621919aff5'], 'Did you set the right plot axes?'\n",
    "assert _hash([pc._patches[i].get_facecolor() for i,n in enumerate(pc._patches)]) == '98f5df581e', 'Did you change the plot color?'\n",
    "\n",
    "print('--- Success ---')"
   ]
  },
  {
   "cell_type": "markdown",
   "id": "d2774b27",
   "metadata": {
    "deletable": false,
    "editable": false,
    "nbgrader": {
     "grade": false,
     "grade_id": "cell-d518954d8b916192",
     "locked": true,
     "schema_version": 3,
     "solution": false,
     "task": false
    }
   },
   "source": [
    "## Exercise  5\n",
    "\n",
    "There is one plot in `matplotlib` that can show us several statistics, such as quartiles and outliers. Which one?\n",
    "\n",
    "    A. Line plot \n",
    "    B. Histogram  \n",
    "    C. Stem plot \n",
    "    D. Box plot"
   ]
  },
  {
   "cell_type": "code",
   "execution_count": null,
   "id": "62e397e0",
   "metadata": {
    "deletable": false,
    "nbgrader": {
     "grade": false,
     "grade_id": "cell-4a1a5f6bda9dc4cc",
     "locked": false,
     "schema_version": 3,
     "solution": true,
     "task": false
    }
   },
   "outputs": [],
   "source": [
    "# YOUR CODE HERE\n",
    "raise NotImplementedError()"
   ]
  },
  {
   "cell_type": "code",
   "execution_count": null,
   "id": "3fa57b44",
   "metadata": {
    "deletable": false,
    "editable": false,
    "nbgrader": {
     "grade": true,
     "grade_id": "cell-b2fd94af1a929b68",
     "locked": true,
     "points": 1,
     "schema_version": 3,
     "solution": false,
     "task": false
    }
   },
   "outputs": [],
   "source": [
    "assert _hash(exercise_5_plot_type) == '23db524fe4', 'Try again'\n",
    "\n",
    "print('--- Success ---')"
   ]
  },
  {
   "cell_type": "markdown",
   "id": "8ba60b13",
   "metadata": {
    "deletable": false,
    "editable": false,
    "nbgrader": {
     "grade": false,
     "grade_id": "cell-9008824a6a7313d4",
     "locked": true,
     "schema_version": 3,
     "solution": false,
     "task": false
    }
   },
   "source": [
    "Now, we will analyze the types of payment and check these statistics for the payments made. Following the steps below:\n",
    "\n",
    "- make a plot that displays the **`total`** by **`payment`** type and that allows us to check if there are outliers.\n",
    "- change the default **plot style** to **`ggplot`**.\n",
    "- set the plot argument **vert** to **`False`**.\n",
    "- set the plot argument **figsize** to **`9`** inches width and **`9`** inches height.\n",
    "- set the plot argument **grid** to **`False`**\n",
    "- set the plot argument **fontsize** to **`20`**"
   ]
  },
  {
   "cell_type": "code",
   "execution_count": null,
   "id": "07ff1345",
   "metadata": {
    "deletable": false,
    "nbgrader": {
     "grade": false,
     "grade_id": "cell-9855e6c0b66c1530",
     "locked": false,
     "schema_version": 3,
     "solution": true,
     "task": false
    }
   },
   "outputs": [],
   "source": [
    "# YOUR CODE HERE\n",
    "raise NotImplementedError()\n",
    "axis = plt.gca();"
   ]
  },
  {
   "cell_type": "code",
   "execution_count": null,
   "id": "044bda32",
   "metadata": {
    "deletable": false,
    "editable": false,
    "nbgrader": {
     "grade": true,
     "grade_id": "cell-9b4fb4918c8c68f1",
     "locked": true,
     "points": 2,
     "schema_version": 3,
     "solution": false,
     "task": false
    }
   },
   "outputs": [],
   "source": [
    "pc = PlotChecker(axis)\n",
    "pc._lines = pc.axis.get_lines()\n",
    "pc.colors = np.array([pc._color2rgb(x.get_color()) for x in pc._lines])\n",
    "\n",
    "assert _hash(pc.colors[0]) in ['78183b94a9'], 'Did you set the right plot style?'\n",
    "assert _hash(pc.yticklabels) in ['46365c9db6'], 'Did you select the right categorical variable for the plot?'\n",
    "assert _hash(pc.xticklabels) in ['3b92a750f9'], 'Did you select the right numerical variable for the plot?'\n",
    "\n",
    "print('--- Success ---')"
   ]
  },
  {
   "cell_type": "markdown",
   "id": "7d284297",
   "metadata": {
    "deletable": false,
    "editable": false,
    "nbgrader": {
     "grade": false,
     "grade_id": "cell-8a09f45bfa732558",
     "locked": true,
     "schema_version": 3,
     "solution": false,
     "task": false
    }
   },
   "source": [
    "## Exercise 6\n",
    "\n",
    "There is another plot that can tell us a lot about the statistics of the data. These are normally plots that show us the distribution of variables. \n",
    "\n",
    "Which plot can we use to visualize exactly how the **`total`** sales is distributed in the city of Yangon?\n",
    "\n",
    "    A. Box plot   \n",
    "    B. Bar plot  \n",
    "    C. Histogram   \n",
    "    D. Pie plot"
   ]
  },
  {
   "cell_type": "code",
   "execution_count": null,
   "id": "2da61c15",
   "metadata": {
    "deletable": false,
    "nbgrader": {
     "grade": false,
     "grade_id": "cell-fde09ea80e74af51",
     "locked": false,
     "schema_version": 3,
     "solution": true,
     "task": false
    }
   },
   "outputs": [],
   "source": [
    "# YOUR CODE HERE\n",
    "raise NotImplementedError()"
   ]
  },
  {
   "cell_type": "code",
   "execution_count": null,
   "id": "d8642ae6",
   "metadata": {
    "deletable": false,
    "editable": false,
    "nbgrader": {
     "grade": true,
     "grade_id": "cell-d201e0665e4c0bb5",
     "locked": true,
     "points": 1,
     "schema_version": 3,
     "solution": false,
     "task": false
    }
   },
   "outputs": [],
   "source": [
    "assert _hash(exercise_6_plot_type) == 'f72385315c', 'Try again'\n",
    "\n",
    "print('--- Success ---')"
   ]
  },
  {
   "cell_type": "markdown",
   "id": "e52ee72e",
   "metadata": {},
   "source": [
    "In this case, without using any kind of aggregation, we would like to know if in the city of Yangon there are more sales happening with values closer to the values {100, 200, 300, 400, 500}. To find this, follow these steps:\n",
    "\n",
    "- filter the sales to only have sales in the city of Yangon\n",
    "- save the filtered dataset in a new variable named `yangon_sales`\n",
    "- plot and show only `total` sales between **0 and 500**.\n",
    "> 💡 **hint:** _set a limit_ \n",
    "- change the number of **bins to 20**\n",
    "- change the **plot color** to **`lightblue`**.\n",
    "- set **edgecolor** to **`blue`**"
   ]
  },
  {
   "cell_type": "code",
   "execution_count": null,
   "id": "ec95636e",
   "metadata": {
    "deletable": false,
    "nbgrader": {
     "grade": false,
     "grade_id": "cell-5f8a6d68480cf471",
     "locked": false,
     "schema_version": 3,
     "solution": true,
     "task": false
    }
   },
   "outputs": [],
   "source": [
    "# YOUR CODE HERE\n",
    "raise NotImplementedError()\n",
    "axis = plt.gca();"
   ]
  },
  {
   "cell_type": "code",
   "execution_count": null,
   "id": "33aedf9c",
   "metadata": {
    "deletable": false,
    "editable": false,
    "nbgrader": {
     "grade": true,
     "grade_id": "cell-3f2e67dd2c0b4aaa",
     "locked": true,
     "points": 3,
     "schema_version": 3,
     "solution": false,
     "task": false
    }
   },
   "outputs": [],
   "source": [
    "pc = PlotChecker(axis)\n",
    "pc._patches = np.array(pc.axis.patches)\n",
    "pc._patches = pc._patches[np.argsort([p.get_x() for p in pc._patches])]\n",
    "pc.widths = np.array([p.get_width() for p in pc._patches])\n",
    "pc.heights = np.array([p.get_height() for p in pc._patches])\n",
    "\n",
    "assert _hash(yangon_sales['city'].unique()) in ['86c4bc981a'], 'Did you filter the city by Yangon?'\n",
    "assert _hash(np.sort(pc.widths)) in ['793178e1c4'], 'Did you set the right plot type? You should not change the dataset.'\n",
    "assert _hash(np.sort(pc.heights)) in ['35cf8d775d'], 'Did you set the right plot type? You should not change the dataset.'\n",
    "assert _hash(pc.xlim[0]) == 'c64e30c19f', 'Did you set the right limit?'\n",
    "assert _hash(pc.xlim[1]) == 'b35312f97f', 'Did you set the right limit?'\n",
    "assert _hash([pc._patches[i].get_facecolor() for i,n in enumerate(pc._patches)]) == 'a2424627e4', 'Did you change the plot color?'\n",
    "assert _hash([pc._patches[i].get_edgecolor() for i,n in enumerate(pc._patches)]) == '2bba1400c5', 'Did you change the plot edgecolor?'\n",
    "\n",
    "print('--- Success ---')"
   ]
  },
  {
   "cell_type": "markdown",
   "id": "4ca692ae",
   "metadata": {
    "deletable": false,
    "editable": false,
    "nbgrader": {
     "grade": false,
     "grade_id": "cell-e4048c815b1718bc",
     "locked": true,
     "schema_version": 3,
     "solution": false,
     "task": false
    }
   },
   "source": [
    "\n",
    "# 🏁 Ungraded Exercise 🏁\n",
    "Load the file misterious_data.csv and use data visualization to answer the following questions:\n",
    "\n",
    "* How is the distribution of **x** in general?\n",
    "* Are there any **outlier** in any of the fields?\n",
    "* Which **2 charts** better represent the underlying data?\n",
    "* Change their **style** to **`bmh`**.\n",
    "* Add **titles** to each chart explaining them."
   ]
  }
 ],
 "metadata": {
  "kernelspec": {
   "display_name": "Python 3 (ipykernel)",
   "language": "python",
   "name": "python3"
  },
  "language_info": {
   "codemirror_mode": {
    "name": "ipython",
    "version": 3
   },
   "file_extension": ".py",
   "mimetype": "text/x-python",
   "name": "python",
   "nbconvert_exporter": "python",
   "pygments_lexer": "ipython3",
   "version": "3.9.12"
  },
  "vscode": {
   "interpreter": {
    "hash": "ef8de6841f8cf6fd3eee71cb00912e3991f4782c59566baf1038d40d283b6212"
   }
  }
 },
 "nbformat": 4,
 "nbformat_minor": 5
}
